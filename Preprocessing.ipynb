{
 "cells": [
  {
   "cell_type": "code",
   "execution_count": 146,
   "metadata": {},
   "outputs": [],
   "source": [
    "import pandas as pd\n",
    "import numpy as np\n",
    "import nltk\n",
    "import string\n",
    "import re"
   ]
  },
  {
   "cell_type": "code",
   "execution_count": 3,
   "metadata": {},
   "outputs": [],
   "source": [
    "nltk.download('punkt')"
   ]
  },
  {
   "cell_type": "code",
   "execution_count": 97,
   "metadata": {},
   "outputs": [
    {
     "name": "stderr",
     "output_type": "stream",
     "text": [
      "[nltk_data] Downloading package wordnet to\n",
      "[nltk_data]     C:\\Users\\slips\\AppData\\Roaming\\nltk_data...\n",
      "[nltk_data]   Unzipping corpora\\wordnet.zip.\n"
     ]
    },
    {
     "data": {
      "text/plain": [
       "True"
      ]
     },
     "execution_count": 97,
     "metadata": {},
     "output_type": "execute_result"
    }
   ],
   "source": [
    "nltk.download('wordnet')"
   ]
  },
  {
   "cell_type": "code",
   "execution_count": 124,
   "metadata": {},
   "outputs": [],
   "source": [
    "from nltk import sent_tokenize, word_tokenize\n",
    "from nltk.stem.snowball import SnowballStemmer\n",
    "from nltk.stem.wordnet import WordNetLemmatizer\n",
    "from nltk.corpus import stopwords"
   ]
  },
  {
   "cell_type": "code",
   "execution_count": 150,
   "metadata": {},
   "outputs": [],
   "source": [
    "df = pd.read_csv(\"data/dreaddit-train.csv\")\n",
    "a = df[\"text\"]\n",
    "b = df[\"label\"]\n",
    "df = pd.concat([a, b], axis=1)"
   ]
  },
  {
   "cell_type": "code",
   "execution_count": 151,
   "metadata": {},
   "outputs": [],
   "source": [
    "def preprocess(x):\n",
    "    x = x.replace(\"\\n\", \" \").replace(\"\\r\", \" \")\n",
    "    x = x.translate(str.maketrans('', '', string.punctuation))\n",
    "    return x\n",
    "def tokenize(x) :\n",
    "    return word_tokenize(x)\n",
    "snowball = SnowballStemmer(language = 'english')\n",
    "def stem(words):\n",
    "    new = []\n",
    "    stem_words = [snowball.stem(x) for x in (words)]\n",
    "    new.append(stem_words)\n",
    "    return new"
   ]
  },
  {
   "cell_type": "code",
   "execution_count": 152,
   "metadata": {},
   "outputs": [],
   "source": [
    "df[\"text\"] = df[\"text\"].apply(lambda x : preprocess(x))\n",
    "df[\"text\"] = df[\"text\"].apply(lambda x : tokenize(x))\n",
    "df[\"text\"] = df[\"text\"].apply(lambda x : stemming(x))"
   ]
  },
  {
   "cell_type": "code",
   "execution_count": 155,
   "metadata": {},
   "outputs": [
    {
     "data": {
      "text/plain": [
       "0       [[he, said, he, had, not, felt, that, way, bef...\n",
       "1       [[hey, there, rassist, not, sure, if, this, is...\n",
       "2       [[my, mom, then, hit, me, with, the, newspap, ...\n",
       "3       [[until, i, met, my, new, boyfriend, he, is, a...\n",
       "4       [[octob, is, domest, violenc, awar, month, and...\n",
       "5       [[i, think, he, doesnt, want, to, put, in, the...\n",
       "6       [[it, was, a, big, compani, so, luckili, i, di...\n",
       "7       [[it, clear, up, and, i, was, okay, but, on, m...\n",
       "8       [[i, actual, give, an, assist, half, my, emerg...\n",
       "9       [[i, just, feel, like, the, street, life, has,...\n",
       "10      [[next, week, i, ’, ll, be, fli, for, our, fam...\n",
       "11      [[everyth, set, me, off, and, im, almost, have...\n",
       "12      [[i, ’, ve, been, take, 125, mgs, zoloft, for,...\n",
       "13      [[no, place, in, my, citi, has, shelter, space...\n",
       "14      [[these, past, coupl, of, month, have, been, t...\n",
       "15      [[i, ask, him, three, time, what, happen, and,...\n",
       "16      [[the, sensat, last, hour, it, seem, like, a, ...\n",
       "17      [[it, did, hurt, but, didn, ’, t, leav, ani, m...\n",
       "18      [[this, is, help, to, get, kid, in, the, area,...\n",
       "19      [[we, had, plan, to, move, in, togeth, a, fanc...\n",
       "20      [[he, still, hold, me, back, in, life, he, sti...\n",
       "21      [[i, was, go, through, a, hard, time, after, o...\n",
       "22      [[through, work, i, have, been, in, some, dodg...\n",
       "23      [[with, a, switch, blade, and, open, arm, in, ...\n",
       "24      [[accord, to, a, studi, from, url, and, it, su...\n",
       "25      [[if, anyth, goe, wrong, sexual, i, want, to, ...\n",
       "26      [[i, realli, don, ’, t, know, what, to, do, ab...\n",
       "27      [[novemb, has, been, one, of, the, worst, mont...\n",
       "28      [[okay, so, in, sinc, octob, have, just, got, ...\n",
       "29      [[also, the, headach, load, of, headach, all, ...\n",
       "                              ...                        \n",
       "2808    [[he, apolog, if, i, point, it, out, later, bu...\n",
       "2809    [[after, talk, with, my, psych, she, made, me,...\n",
       "2810    [[hello, i, have, been, on, these, support, su...\n",
       "2811    [[ive, been, suffer, from, anxieti, and, ptsd,...\n",
       "2812    [[i, feel, like, i, ’, m, sabotag, our, relati...\n",
       "2813    [[about, sean, one, thing, that, describ, sean...\n",
       "2814    [[i, couldnt, speak, but, final, manag, to, sa...\n",
       "2815    [[hi, everyon, my, aunt, is, current, help, ou...\n",
       "2816    [[i, am, quit, introvert, and, the, broken, fr...\n",
       "2817    [[he, tell, me, he, love, me, with, his, smile...\n",
       "2818    [[she, has, not, onc, shown, disappoint, when,...\n",
       "2819    [[this, suck, were, book, plane, ticket, next,...\n",
       "2820    [[i, might, be, homeless, soon, i, have, about...\n",
       "2821    [[i, dont, want, to, be, anxious, in, draw, cl...\n",
       "2822    [[all, of, this, has, made, me, feel, realli, ...\n",
       "2823    [[i, know, the, rule, say, no, selffundrais, p...\n",
       "2824    [[even, when, she, hate, me, i, didnt, hate, h...\n",
       "2825    [[background, paul, and, i, met, 15, year, ago...\n",
       "2826    [[he, speed, up, and, tri, to, catch, up, to, ...\n",
       "2827    [[i, have, veri, littl, understand, of, develo...\n",
       "2828    [[account, incred, overdu, a, life, entir, una...\n",
       "2829    [[the, father, has, one, of, the, most, notabl...\n",
       "2830    [[to, me, i, feel, like, that, is, someon, old...\n",
       "2831    [[hey, so, i, come, from, a, middl, class, fam...\n",
       "2832    [[but, then, ill, get, there, and, hell, drop,...\n",
       "2833    [[her, a, week, ago, precious, how, are, you, ...\n",
       "2834    [[i, dont, have, the, abil, to, cope, with, it...\n",
       "2835    [[in, case, this, is, the, first, time, your, ...\n",
       "2836    [[do, you, find, this, normal, they, have, a, ...\n",
       "2837    [[i, was, talk, to, my, mom, this, morn, and, ...\n",
       "Name: text, Length: 2838, dtype: object"
      ]
     },
     "execution_count": 155,
     "metadata": {},
     "output_type": "execute_result"
    }
   ],
   "source": [
    "df[\"text\"]"
   ]
  },
  {
   "cell_type": "code",
   "execution_count": null,
   "metadata": {},
   "outputs": [],
   "source": []
  }
 ],
 "metadata": {
  "kernelspec": {
   "display_name": "Python 3",
   "language": "python",
   "name": "python3"
  },
  "language_info": {
   "codemirror_mode": {
    "name": "ipython",
    "version": 3
   },
   "file_extension": ".py",
   "mimetype": "text/x-python",
   "name": "python",
   "nbconvert_exporter": "python",
   "pygments_lexer": "ipython3",
   "version": "3.7.3"
  }
 },
 "nbformat": 4,
 "nbformat_minor": 4
}
